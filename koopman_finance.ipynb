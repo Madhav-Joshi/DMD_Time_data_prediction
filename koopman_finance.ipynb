{
 "cells": [
  {
   "cell_type": "code",
   "execution_count": 1,
   "metadata": {},
   "outputs": [],
   "source": [
    "import pandas as pd\n",
    "import numpy as np\n",
    "import pandas_datareader.data as pdr\n",
    "import datetime \n",
    "import json"
   ]
  },
  {
   "cell_type": "code",
   "execution_count": 2,
   "metadata": {},
   "outputs": [],
   "source": [
    "# Input\n",
    "start_date = datetime.datetime(2016,1,1)\n",
    "end_date = datetime.datetime.today()\n",
    "\n",
    "# 10 Stocks of same sector are chosen as representative of that sector\n",
    "# tickers = ['BAJAJ-AUTO.NS','TCS.NS','INFY.NS',]\n",
    "nstocks = 10\n",
    "sector = 'Utilities'\n",
    "sector_data = pd.read_csv(f'./sector_data/{sector}.csv',index_col=0)\n",
    "tickers = list(sector_data.nlargest(nstocks,'MktCap')['Ticker'])\n",
    "\n",
    "data = pdr.get_data_yahoo(tickers,start_date,end_date)"
   ]
  },
  {
   "cell_type": "code",
   "execution_count": 3,
   "metadata": {},
   "outputs": [
    {
     "data": {
      "text/html": [
       "<div>\n",
       "<style scoped>\n",
       "    .dataframe tbody tr th:only-of-type {\n",
       "        vertical-align: middle;\n",
       "    }\n",
       "\n",
       "    .dataframe tbody tr th {\n",
       "        vertical-align: top;\n",
       "    }\n",
       "\n",
       "    .dataframe thead tr th {\n",
       "        text-align: left;\n",
       "    }\n",
       "\n",
       "    .dataframe thead tr:last-of-type th {\n",
       "        text-align: right;\n",
       "    }\n",
       "</style>\n",
       "<table border=\"1\" class=\"dataframe\">\n",
       "  <thead>\n",
       "    <tr>\n",
       "      <th>Attributes</th>\n",
       "      <th colspan=\"10\" halign=\"left\">Adj Close</th>\n",
       "      <th>...</th>\n",
       "      <th colspan=\"10\" halign=\"left\">Volume</th>\n",
       "    </tr>\n",
       "    <tr>\n",
       "      <th>Symbols</th>\n",
       "      <th>NTPC.NS</th>\n",
       "      <th>POWERGRID.NS</th>\n",
       "      <th>TATAPOWER.NS</th>\n",
       "      <th>JSWENERGY.NS</th>\n",
       "      <th>NHPC.NS</th>\n",
       "      <th>TORNTPOWER.NS</th>\n",
       "      <th>SJVN.NS</th>\n",
       "      <th>NLCINDIA.NS</th>\n",
       "      <th>CESC.NS</th>\n",
       "      <th>RPOWER.NS</th>\n",
       "      <th>...</th>\n",
       "      <th>NTPC.NS</th>\n",
       "      <th>POWERGRID.NS</th>\n",
       "      <th>TATAPOWER.NS</th>\n",
       "      <th>JSWENERGY.NS</th>\n",
       "      <th>NHPC.NS</th>\n",
       "      <th>TORNTPOWER.NS</th>\n",
       "      <th>SJVN.NS</th>\n",
       "      <th>NLCINDIA.NS</th>\n",
       "      <th>CESC.NS</th>\n",
       "      <th>RPOWER.NS</th>\n",
       "    </tr>\n",
       "    <tr>\n",
       "      <th>Date</th>\n",
       "      <th></th>\n",
       "      <th></th>\n",
       "      <th></th>\n",
       "      <th></th>\n",
       "      <th></th>\n",
       "      <th></th>\n",
       "      <th></th>\n",
       "      <th></th>\n",
       "      <th></th>\n",
       "      <th></th>\n",
       "      <th></th>\n",
       "      <th></th>\n",
       "      <th></th>\n",
       "      <th></th>\n",
       "      <th></th>\n",
       "      <th></th>\n",
       "      <th></th>\n",
       "      <th></th>\n",
       "      <th></th>\n",
       "      <th></th>\n",
       "      <th></th>\n",
       "    </tr>\n",
       "  </thead>\n",
       "  <tbody>\n",
       "    <tr>\n",
       "      <th>2022-09-07</th>\n",
       "      <td>167.300003</td>\n",
       "      <td>224.399994</td>\n",
       "      <td>246.949997</td>\n",
       "      <td>352.799988</td>\n",
       "      <td>38.049999</td>\n",
       "      <td>580.799988</td>\n",
       "      <td>30.85</td>\n",
       "      <td>81.650002</td>\n",
       "      <td>84.199997</td>\n",
       "      <td>21.650000</td>\n",
       "      <td>...</td>\n",
       "      <td>19415892.0</td>\n",
       "      <td>5900059.0</td>\n",
       "      <td>30474615.0</td>\n",
       "      <td>1618180.0</td>\n",
       "      <td>10521195.0</td>\n",
       "      <td>858247.0</td>\n",
       "      <td>1974656.0</td>\n",
       "      <td>5842934.0</td>\n",
       "      <td>7705238.0</td>\n",
       "      <td>64869145.0</td>\n",
       "    </tr>\n",
       "    <tr>\n",
       "      <th>2022-09-08</th>\n",
       "      <td>166.800003</td>\n",
       "      <td>224.399994</td>\n",
       "      <td>244.899994</td>\n",
       "      <td>351.600006</td>\n",
       "      <td>37.650002</td>\n",
       "      <td>573.450012</td>\n",
       "      <td>31.25</td>\n",
       "      <td>81.000000</td>\n",
       "      <td>82.900002</td>\n",
       "      <td>21.299999</td>\n",
       "      <td>...</td>\n",
       "      <td>11595205.0</td>\n",
       "      <td>5390802.0</td>\n",
       "      <td>14951235.0</td>\n",
       "      <td>1130766.0</td>\n",
       "      <td>10207654.0</td>\n",
       "      <td>300802.0</td>\n",
       "      <td>2848422.0</td>\n",
       "      <td>10071812.0</td>\n",
       "      <td>2584014.0</td>\n",
       "      <td>48143250.0</td>\n",
       "    </tr>\n",
       "    <tr>\n",
       "      <th>2022-09-09</th>\n",
       "      <td>166.600006</td>\n",
       "      <td>222.899994</td>\n",
       "      <td>242.350006</td>\n",
       "      <td>348.950012</td>\n",
       "      <td>36.700001</td>\n",
       "      <td>565.700012</td>\n",
       "      <td>31.35</td>\n",
       "      <td>78.750000</td>\n",
       "      <td>83.250000</td>\n",
       "      <td>19.200001</td>\n",
       "      <td>...</td>\n",
       "      <td>16415150.0</td>\n",
       "      <td>6871521.0</td>\n",
       "      <td>12290186.0</td>\n",
       "      <td>875563.0</td>\n",
       "      <td>14983024.0</td>\n",
       "      <td>328987.0</td>\n",
       "      <td>2673363.0</td>\n",
       "      <td>4197554.0</td>\n",
       "      <td>2084297.0</td>\n",
       "      <td>115341202.0</td>\n",
       "    </tr>\n",
       "    <tr>\n",
       "      <th>2022-09-12</th>\n",
       "      <td>166.399994</td>\n",
       "      <td>223.949997</td>\n",
       "      <td>242.800003</td>\n",
       "      <td>348.700012</td>\n",
       "      <td>36.950001</td>\n",
       "      <td>560.950012</td>\n",
       "      <td>31.60</td>\n",
       "      <td>78.150002</td>\n",
       "      <td>85.449997</td>\n",
       "      <td>21.100000</td>\n",
       "      <td>...</td>\n",
       "      <td>15469466.0</td>\n",
       "      <td>6584190.0</td>\n",
       "      <td>10322525.0</td>\n",
       "      <td>785552.0</td>\n",
       "      <td>11267951.0</td>\n",
       "      <td>565980.0</td>\n",
       "      <td>2247045.0</td>\n",
       "      <td>1974283.0</td>\n",
       "      <td>5181737.0</td>\n",
       "      <td>107892593.0</td>\n",
       "    </tr>\n",
       "    <tr>\n",
       "      <th>2022-09-13</th>\n",
       "      <td>167.399994</td>\n",
       "      <td>226.800003</td>\n",
       "      <td>241.050003</td>\n",
       "      <td>344.049988</td>\n",
       "      <td>37.000000</td>\n",
       "      <td>552.650024</td>\n",
       "      <td>31.75</td>\n",
       "      <td>77.650002</td>\n",
       "      <td>84.349998</td>\n",
       "      <td>20.049999</td>\n",
       "      <td>...</td>\n",
       "      <td>15641679.0</td>\n",
       "      <td>8458481.0</td>\n",
       "      <td>13852794.0</td>\n",
       "      <td>932274.0</td>\n",
       "      <td>18015095.0</td>\n",
       "      <td>347210.0</td>\n",
       "      <td>3038978.0</td>\n",
       "      <td>3337920.0</td>\n",
       "      <td>1920324.0</td>\n",
       "      <td>20768831.0</td>\n",
       "    </tr>\n",
       "  </tbody>\n",
       "</table>\n",
       "<p>5 rows × 60 columns</p>\n",
       "</div>"
      ],
      "text/plain": [
       "Attributes   Adj Close                                                    \\\n",
       "Symbols        NTPC.NS POWERGRID.NS TATAPOWER.NS JSWENERGY.NS    NHPC.NS   \n",
       "Date                                                                       \n",
       "2022-09-07  167.300003   224.399994   246.949997   352.799988  38.049999   \n",
       "2022-09-08  166.800003   224.399994   244.899994   351.600006  37.650002   \n",
       "2022-09-09  166.600006   222.899994   242.350006   348.950012  36.700001   \n",
       "2022-09-12  166.399994   223.949997   242.800003   348.700012  36.950001   \n",
       "2022-09-13  167.399994   226.800003   241.050003   344.049988  37.000000   \n",
       "\n",
       "Attributes                                                          ...  \\\n",
       "Symbols    TORNTPOWER.NS SJVN.NS NLCINDIA.NS    CESC.NS  RPOWER.NS  ...   \n",
       "Date                                                                ...   \n",
       "2022-09-07    580.799988   30.85   81.650002  84.199997  21.650000  ...   \n",
       "2022-09-08    573.450012   31.25   81.000000  82.900002  21.299999  ...   \n",
       "2022-09-09    565.700012   31.35   78.750000  83.250000  19.200001  ...   \n",
       "2022-09-12    560.950012   31.60   78.150002  85.449997  21.100000  ...   \n",
       "2022-09-13    552.650024   31.75   77.650002  84.349998  20.049999  ...   \n",
       "\n",
       "Attributes      Volume                                                     \\\n",
       "Symbols        NTPC.NS POWERGRID.NS TATAPOWER.NS JSWENERGY.NS     NHPC.NS   \n",
       "Date                                                                        \n",
       "2022-09-07  19415892.0    5900059.0   30474615.0    1618180.0  10521195.0   \n",
       "2022-09-08  11595205.0    5390802.0   14951235.0    1130766.0  10207654.0   \n",
       "2022-09-09  16415150.0    6871521.0   12290186.0     875563.0  14983024.0   \n",
       "2022-09-12  15469466.0    6584190.0   10322525.0     785552.0  11267951.0   \n",
       "2022-09-13  15641679.0    8458481.0   13852794.0     932274.0  18015095.0   \n",
       "\n",
       "Attributes                                                               \n",
       "Symbols    TORNTPOWER.NS    SJVN.NS NLCINDIA.NS    CESC.NS    RPOWER.NS  \n",
       "Date                                                                     \n",
       "2022-09-07      858247.0  1974656.0   5842934.0  7705238.0   64869145.0  \n",
       "2022-09-08      300802.0  2848422.0  10071812.0  2584014.0   48143250.0  \n",
       "2022-09-09      328987.0  2673363.0   4197554.0  2084297.0  115341202.0  \n",
       "2022-09-12      565980.0  2247045.0   1974283.0  5181737.0  107892593.0  \n",
       "2022-09-13      347210.0  3038978.0   3337920.0  1920324.0   20768831.0  \n",
       "\n",
       "[5 rows x 60 columns]"
      ]
     },
     "execution_count": 3,
     "metadata": {},
     "output_type": "execute_result"
    }
   ],
   "source": [
    "data = data.dropna()\n",
    "data.tail()"
   ]
  },
  {
   "cell_type": "code",
   "execution_count": 4,
   "metadata": {},
   "outputs": [
    {
     "data": {
      "text/plain": [
       "DatetimeIndex(['2016-01-01', '2016-01-04', '2016-01-05', '2016-01-06',\n",
       "               '2016-01-07', '2016-01-08', '2016-01-11', '2016-01-12',\n",
       "               '2016-01-13', '2016-01-14',\n",
       "               ...\n",
       "               '2022-08-30', '2022-09-01', '2022-09-02', '2022-09-05',\n",
       "               '2022-09-06', '2022-09-07', '2022-09-08', '2022-09-09',\n",
       "               '2022-09-12', '2022-09-13'],\n",
       "              dtype='datetime64[ns]', name='Date', length=1655, freq=None)"
      ]
     },
     "execution_count": 4,
     "metadata": {},
     "output_type": "execute_result"
    }
   ],
   "source": [
    "data.index"
   ]
  },
  {
   "cell_type": "code",
   "execution_count": 5,
   "metadata": {},
   "outputs": [],
   "source": [
    "temp_list = []\n",
    "for i in tickers:\n",
    "    temp_list.append(np.array([data['Adj Close'][i]]).T)"
   ]
  },
  {
   "cell_type": "code",
   "execution_count": 6,
   "metadata": {},
   "outputs": [],
   "source": [
    "X = np.block([temp_list]).T"
   ]
  },
  {
   "cell_type": "markdown",
   "metadata": {},
   "source": [
    "n = number of companies in a given portfolio  \n",
    "m = number of data snapshots taken  \n",
    "#### size of X is (n x m)  \n",
    "Trading algorithm developed is parametrized into 2 key parameters  \n",
    "\n",
    "**mp (1,24) = number of past days of market snapshot data taken**  \n",
    "**mf (1,10) = number of days in the future predicted**\n",
    "\n",
    "Use specific portions of the data matrix X as specified by mp and mf\n",
    "Look for trading hotspots or regions of (mp,mf) where predictions are optimal"
   ]
  },
  {
   "cell_type": "markdown",
   "metadata": {},
   "source": [
    "### If there is a sufficient predicted change in the stock (at least 1%), then trade is executed  \n",
    "1. Initial investment is 10,00,000.\n",
    "2. Transaction cost is 20 for each position.\n",
    "3. All money is invested evenly across all companies in portfolio\n",
    "\n",
    "As it is self financing strategy, the purchase of a new asset must be financed by the sale of an old one.\n",
    "\n",
    "### Hotspot\n",
    "1. Prediction accuracy > 53% at that location.\n",
    "2. Avg predition score of all 9 surrounding cells > 53%.\n",
    "\n",
    "Now we focus on 2 main things\n",
    "1. Training step in the algo to decide (mp,mf).\n",
    "2. Implementation of the trading based on the results\n",
    "\n",
    "prediction accuracy = (TrueNegativities+TruePositive)/(TrueNegative+TruePositive+FalseNegative+FalsePositive)\n",
    "\n",
    "Eq 1.16 and 1.24 from Kutz book\n",
    "\n",
    "So basically we want to predict states based on historical value.\n",
    "$$ X_2 = AX_1 $$\n",
    "where $X_2$ is the time shifted matrix of $X_1$ i.e. $X_1=X[:-1]$ and $X_2=X[1:]$.  \n",
    "\n",
    "### DMD\n",
    "Outputs and inputs are \n",
    "$$ [\\Phi ,\\Omega ,\\lambda ,b,X_{DMD}] = DMD(X_1,X_2,r,dt) $$\n",
    "Start by taking economic SVD of X1 and compute its main components\n",
    "$$ [U,s,V_h]=np.linalg.svd(X_1,full\\_matrices=False) $$  \n",
    "$$ r = np.min(r, np.shape(U)[1]) $$\n",
    "$$ U_r,S_r,V_r=U[:,:r],np.diag(s[:r]),V_h[:r,:]' $$\n",
    "\n",
    "Using these main components compute $\\tilde{A}$, which is a low dimensional linear model, since computing $A$ by taking pseudo inverse of $X_1$ is computationally expensive.\n",
    "$$ \\tilde{A} = U_r'X_2V_r/S_r $$\n",
    "\n",
    "Compute eig of $\\tilde{A}$ and use it to compute DMD modes i.e. eigenvectors of $A$, $\\Phi$\n",
    "$$ [d, W_r] = np.linalg.eig(\\tilde{A}) $$\n",
    "$$ \\Phi = X_2V_r/S_rW_r $$\n",
    "\n",
    "Hence \n",
    "$$ \\lambda = np.diag(d) $$\n",
    "$$ \\Omega = log(\\lambda)/dt $$\n",
    "$$ x(t) \\approx \\Phi e^{\\Omega t}b $$\n",
    "where $b$ is the vector of initial amplitude of each mode. We can find $b$ as at time $t=0$\n",
    "$$ X1[:,0] = \\Phi b $$\n",
    "$$ b = X1[:,0] np.linalg.pinv(\\Phi) $$\n",
    "$$ t = timearray(dtSpaced(butNotNecessary)) = size(something,1,1)$$\n",
    "$$ X_{DMD} = \\Phi e^{\\Omega t}b =(ReshapingRequired)$$\n"
   ]
  },
  {
   "cell_type": "code",
   "execution_count": 7,
   "metadata": {},
   "outputs": [],
   "source": [
    "def DMD(X,r,dt,mf):\n",
    "    '''\n",
    "    Inputs:\n",
    "        X = numpy.ndarray: Historical time series data with time along the columns and current time being the last column\n",
    "        r = scalar: Number of main modes to consider\n",
    "        dt = scaler: time step between each column\n",
    "        mf = scalar: Number of future time steps you want to predict\n",
    "    Outputs:\n",
    "        X_DMD = mf+1 columns of predicted time series data with first column being the current time step\n",
    "    '''\n",
    "    X1,X2 = X[:,:-1],X[:,1:] # Last column of X is current price of the day close to closing\n",
    "    U,s,Vh = np.linalg.svd(X1,full_matrices=False)\n",
    "    r = min(r,np.shape(U)[1])\n",
    "    Ur,Sr,Vr = U[:,:r],np.diag(s[:r]),Vh[:r,:].T\n",
    "    A_T = Ur.T@X2@Vr@np.linalg.inv(Sr)\n",
    "    d,Wr = np.linalg.eig(A_T)\n",
    "    Phi = X2@Vr@np.linalg.inv(Sr)@Wr\n",
    "    Lambda = np.diag(d)\n",
    "    Omega = np.log(Lambda)/dt\n",
    "    b = np.linalg.pinv(Phi)@X[:,-1:]\n",
    "    \n",
    "    t = np.arange(0,(mf+1)*dt,dt)\n",
    "    t = t.reshape((t.shape[0],1,1))\n",
    "    time_dynamics = np.exp(t*Omega)@b\n",
    "    X_DMD = (Phi@time_dynamics).T.reshape((Phi.shape[0],t.shape[0]))\n",
    "    return X_DMD\n",
    "    "
   ]
  },
  {
   "cell_type": "code",
   "execution_count": 8,
   "metadata": {},
   "outputs": [
    {
     "data": {
      "text/plain": [
       "(10, 551)"
      ]
     },
     "execution_count": 8,
     "metadata": {},
     "output_type": "execute_result"
    }
   ],
   "source": [
    "## Assign train data\n",
    "X_train = X[:,:int(X.shape[1]/3)]\n",
    "X_test = X[:,int(X.shape[1]/3):]\n",
    "X_train.shape"
   ]
  },
  {
   "cell_type": "code",
   "execution_count": 9,
   "metadata": {},
   "outputs": [],
   "source": [
    "def backtest(mp,mf,X_inp):\n",
    "    ## Initialize variables\n",
    "    #### When did we buy and at what price, when did we sell and at what price\n",
    "    bank_balance = 1000000\n",
    "    #### Queues to store at what index we bought that stock\n",
    "    q = [np.array([]) for i in range(len(tickers))]\n",
    "    #### trade summary for every stock \n",
    "    trade_summary = [pd.DataFrame(columns=['BuyDate_index','BuyPrice','SellDate_index','SellPrice','Lots']) for i in range(len(tickers))] # For 1 stock, make similar structure for other stocks as well\n",
    "    #### Bank balance is distributed equally among stocks\n",
    "    balance_per_stock = np.ones((len(tickers),1))*bank_balance/len(tickers)\n",
    "\n",
    "    ## Begin for loop from max(mp) to train-max(mf)\n",
    "    for i in range(24,X_inp.shape[1]-10):\n",
    "        #### If bought at i-mf (check queue and remove if present) then sell\n",
    "        for j in range(len(tickers)):\n",
    "            if q[j].shape[0]!=0: # if queue is not empty\n",
    "                if q[j][-1]==i-mf: # if last element is mf days before current then sell\n",
    "                    ###### Sell means to pop queue, append P&L along with the iteration number and increase the bank balance again taking into account the P&L and transaction/brokerage cost (8 per trade)\n",
    "                    q[j] = q[j][:-1]\n",
    "                    ######## Update trade summary\n",
    "                    trade_summary[j].iloc[len(trade_summary[j].index)-1][2:4] = [i,X_inp[j,i]]\n",
    "                    ######## Update balance per stock\n",
    "                    balance_per_stock[j] += X_inp[j,i]*trade_summary[j].iloc[len(trade_summary[j].index)-1][-1] # Include transaction costs\n",
    "                \n",
    "        #### If balance is there and DMD(...)[:,-1:] i.e. predicted price is greater than 1% then buy else do nothing\n",
    "        dmd = DMD(X_inp[:,i-mp:i+1],5,1,mf)[:,-1:]\n",
    "        for j in range(len(tickers)):\n",
    "            if balance_per_stock[j]>=X_inp[j,i] and (dmd[j,0]-X_inp[j,i])/X_inp[j,i]>0.01:\n",
    "                ## Buy \n",
    "                lots = int(balance_per_stock[j]/X_inp[j,i])\n",
    "                #### Buy means append queue of possesions\n",
    "                q[j] = np.append(q[j],i)\n",
    "                #### Update trade summary\n",
    "                trade_summary[j].loc[len(trade_summary[j].index)] = [i,X_inp[j,i],np.nan,np.nan,lots]\n",
    "                #### Update (subtract) balance per stock\n",
    "                balance_per_stock[j] -= lots*X_inp[j,i]\n",
    "\n",
    "    return trade_summary\n",
    "        ###### Buy means Bank balance is reduced queue is appended with the iteration number"
   ]
  },
  {
   "cell_type": "code",
   "execution_count": 10,
   "metadata": {},
   "outputs": [
    {
     "name": "stdout",
     "output_type": "stream",
     "text": [
      "1\n"
     ]
    },
    {
     "name": "stderr",
     "output_type": "stream",
     "text": [
      "d:\\Programming\\Python\\Time_data_prediction\\fin-env\\lib\\site-packages\\ipykernel_launcher.py:19: RuntimeWarning: divide by zero encountered in log\n",
      "d:\\Programming\\Python\\Time_data_prediction\\fin-env\\lib\\site-packages\\ipykernel_launcher.py:24: RuntimeWarning: invalid value encountered in multiply\n",
      "d:\\Programming\\Python\\Time_data_prediction\\fin-env\\lib\\site-packages\\ipykernel_launcher.py:19: RuntimeWarning: invalid value encountered in log\n",
      "d:\\Programming\\Python\\Time_data_prediction\\fin-env\\lib\\site-packages\\ipykernel_launcher.py:19: RuntimeWarning: invalid value encountered in true_divide\n"
     ]
    },
    {
     "name": "stdout",
     "output_type": "stream",
     "text": [
      "2\n",
      "3\n",
      "4\n",
      "5\n",
      "6\n",
      "7\n",
      "8\n",
      "9\n",
      "10\n",
      "11\n",
      "12\n",
      "13\n",
      "14\n",
      "15\n",
      "16\n",
      "17\n",
      "18\n",
      "19\n",
      "20\n",
      "21\n",
      "22\n",
      "23\n",
      "24\n"
     ]
    }
   ],
   "source": [
    "range_mp = 24\n",
    "range_mf = 10\n",
    "trade_summary = np.zeros((range_mf,range_mp)).tolist()\n",
    "for mp in range(1,range_mp+1):\n",
    "    for mf in range(1,range_mf+1):\n",
    "        trade_summary[mf-1][mp-1] = backtest(mp,mf,X_train)\n",
    "        # print(trade_summary[mf-1][mp-1])\n",
    "    print(mp)"
   ]
  },
  {
   "cell_type": "code",
   "execution_count": 11,
   "metadata": {},
   "outputs": [],
   "source": [
    "with open(f'./pre_processing_mp_mf/{sector}.json', 'w') as f:\n",
    "    f.write(json.dumps([[[trade_summary[i][j][k].to_dict() for k in range(len(trade_summary[0][0]))] for j in range(len(trade_summary[0]))] for i in range(len(trade_summary))]))"
   ]
  },
  {
   "cell_type": "code",
   "execution_count": 12,
   "metadata": {},
   "outputs": [],
   "source": [
    "## Do the above thing for all (kp,kf) pair and find %age of successful trades and plot colorplot\n",
    "## This is done in post_peocessing.ipynb file"
   ]
  },
  {
   "cell_type": "markdown",
   "metadata": {},
   "source": [
    "We define a trading hotspot as a particular pairing of $(m_p,m_f)$ integers such that  \n",
    "1. $S(m_p,m_f)>0.53$, percentage of successful trades for a particular pair should be greater than 0.53.\n",
    "2. $1/9\\sum_{j=-1}^1\\sum_{k=-1}^1 S_{m_p+k,m_f+j}>0.53$, basically average of the 9 surrounding cells should be greater than 0.53."
   ]
  },
  {
   "cell_type": "code",
   "execution_count": 13,
   "metadata": {},
   "outputs": [],
   "source": [
    "## Identify the trading hotspot\n",
    "## Identified in post_processing.ipynb file"
   ]
  },
  {
   "cell_type": "markdown",
   "metadata": {},
   "source": [
    "After trading hotspot is identified (if it is present), we can test the algorithm on the remaining data using the values of the trading hotspot.  \n",
    "\n",
    "Else this particular sector is not feasible to trade in. Need to look for another sector for this strategy to work."
   ]
  },
  {
   "cell_type": "code",
   "execution_count": 14,
   "metadata": {},
   "outputs": [
    {
     "name": "stderr",
     "output_type": "stream",
     "text": [
      "d:\\Programming\\Python\\Time_data_prediction\\fin-env\\lib\\site-packages\\ipykernel_launcher.py:19: RuntimeWarning: divide by zero encountered in log\n",
      "d:\\Programming\\Python\\Time_data_prediction\\fin-env\\lib\\site-packages\\ipykernel_launcher.py:19: RuntimeWarning: invalid value encountered in true_divide\n",
      "d:\\Programming\\Python\\Time_data_prediction\\fin-env\\lib\\site-packages\\ipykernel_launcher.py:24: RuntimeWarning: invalid value encountered in multiply\n",
      "d:\\Programming\\Python\\Time_data_prediction\\fin-env\\lib\\site-packages\\ipykernel_launcher.py:19: RuntimeWarning: invalid value encountered in log\n"
     ]
    }
   ],
   "source": [
    "test_trade_summary = backtest(18,8,X_test)"
   ]
  },
  {
   "cell_type": "code",
   "execution_count": 15,
   "metadata": {},
   "outputs": [
    {
     "name": "stdout",
     "output_type": "stream",
     "text": [
      "Profit 286683.66944885254\n",
      "Success Trades 54 ; Total trades 111\n",
      "Success Percentage 48.64864864864865\n"
     ]
    }
   ],
   "source": [
    "profit_test = 0\n",
    "success_test = 0\n",
    "tot_trades_test = 0 # for a given (mp,mf) pair\n",
    "for k in range(len(tickers)):\n",
    "    curr_profit_summary = (test_trade_summary[k]['SellPrice']-test_trade_summary[k]['BuyPrice'])*test_trade_summary[k]['Lots']\n",
    "    \n",
    "    if len(curr_profit_summary)>=1 : \n",
    "        if curr_profit_summary[-1:].isnull().values.any(): \n",
    "            curr_profit_summary = curr_profit_summary[:-1]\n",
    "            test_trade_summary[k] = test_trade_summary[k][:-1]\n",
    "            # print('NaN encountered')\n",
    "        success_test += len(curr_profit_summary[curr_profit_summary>test_trade_summary[k]['BuyPrice']*test_trade_summary[k]['Lots']/100]) #*100/len(curr_profit_summary)            \n",
    "        tot_trades_test += len(curr_profit_summary)\n",
    "    profit_test += np.sum(curr_profit_summary)\n",
    "print('Profit', profit_test)\n",
    "print('Success Trades',success_test,'; Total trades',tot_trades_test)\n",
    "print('Success Percentage',success_test/tot_trades_test*100)"
   ]
  },
  {
   "cell_type": "code",
   "execution_count": null,
   "metadata": {},
   "outputs": [],
   "source": []
  }
 ],
 "metadata": {
  "kernelspec": {
   "display_name": "Python 3.7.9 ('fin-env': venv)",
   "language": "python",
   "name": "python3"
  },
  "language_info": {
   "codemirror_mode": {
    "name": "ipython",
    "version": 3
   },
   "file_extension": ".py",
   "mimetype": "text/x-python",
   "name": "python",
   "nbconvert_exporter": "python",
   "pygments_lexer": "ipython3",
   "version": "3.7.9 (tags/v3.7.9:13c94747c7, Aug 17 2020, 18:58:18) [MSC v.1900 64 bit (AMD64)]"
  },
  "orig_nbformat": 4,
  "vscode": {
   "interpreter": {
    "hash": "ec1b335d40804915a6ceb3a70f4ba62bd3530985ecdb7578dc6cbc1e664ec108"
   }
  }
 },
 "nbformat": 4,
 "nbformat_minor": 2
}
