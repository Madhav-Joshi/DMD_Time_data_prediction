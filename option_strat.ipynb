{
 "cells": [
  {
   "cell_type": "code",
   "execution_count": 1,
   "metadata": {},
   "outputs": [],
   "source": [
    "import requests\n",
    "from bs4 import BeautifulSoup\n",
    "from lxml import html\n",
    "import pandas as pd"
   ]
  },
  {
   "cell_type": "code",
   "execution_count": 2,
   "metadata": {},
   "outputs": [],
   "source": [
    "URL_option = 'https://niftyinvest.com/option-chain/NIFTY'\n",
    "source_option = requests.get(URL_option)"
   ]
  },
  {
   "cell_type": "code",
   "execution_count": 3,
   "metadata": {},
   "outputs": [],
   "source": [
    "tree_option = html.fromstring(source_option.content)\n",
    "ltp_call,strike,ltp_put = 3,5,7\n",
    "table = tree_option.xpath('//*[@id=\"option-chain-table\"]/tbody/tr')"
   ]
  },
  {
   "cell_type": "code",
   "execution_count": 4,
   "metadata": {},
   "outputs": [
    {
     "name": "stdout",
     "output_type": "stream",
     "text": [
      "17624.4\n"
     ]
    }
   ],
   "source": [
    "URL_nifty = 'https://niftyinvest.com/indices/nifty'\n",
    "source_nifty = requests.get(URL_nifty)\n",
    "tree_nifty = html.fromstring(source_nifty.content)\n",
    "nifty_price = tree_nifty.xpath('/html/body/main/div/div/div[3]/div[1]/div/table/tbody/tr/td[2]/b')[0].text_content()\n",
    "print(nifty_price)"
   ]
  },
  {
   "cell_type": "code",
   "execution_count": 5,
   "metadata": {},
   "outputs": [
    {
     "name": "stdout",
     "output_type": "stream",
     "text": [
      "\n",
      "                    ₹ 17729.50\n",
      "                    arrow_drop_up\n",
      "                          99.00\n",
      "                     (0.56%)\n",
      "                \n"
     ]
    }
   ],
   "source": [
    "URL_sgx = 'https://niftyinvest.com/sgx-nifty'\n",
    "source_sgx = requests.get(URL_sgx)\n",
    "tree_sgx = html.fromstring(source_sgx.content)\n",
    "sgx_nifty_price = tree_sgx.xpath('/html/body/div[4]/main/div/div/h3')[0].text_content()\n",
    "print(sgx_nifty_price)"
   ]
  },
  {
   "cell_type": "code",
   "execution_count": 6,
   "metadata": {},
   "outputs": [
    {
     "data": {
      "text/plain": [
       "17729.5"
      ]
     },
     "execution_count": 6,
     "metadata": {},
     "output_type": "execute_result"
    }
   ],
   "source": [
    "float(sgx_nifty_price.split('\\n')[1][-8:])"
   ]
  },
  {
   "cell_type": "code",
   "execution_count": null,
   "metadata": {},
   "outputs": [],
   "source": []
  }
 ],
 "metadata": {
  "kernelspec": {
   "display_name": "Python 3.7.9 ('fin-env': venv)",
   "language": "python",
   "name": "python3"
  },
  "language_info": {
   "codemirror_mode": {
    "name": "ipython",
    "version": 3
   },
   "file_extension": ".py",
   "mimetype": "text/x-python",
   "name": "python",
   "nbconvert_exporter": "python",
   "pygments_lexer": "ipython3",
   "version": "3.7.9"
  },
  "orig_nbformat": 4,
  "vscode": {
   "interpreter": {
    "hash": "ec1b335d40804915a6ceb3a70f4ba62bd3530985ecdb7578dc6cbc1e664ec108"
   }
  }
 },
 "nbformat": 4,
 "nbformat_minor": 2
}
