{
 "cells": [
  {
   "cell_type": "code",
   "execution_count": 1,
   "metadata": {},
   "outputs": [],
   "source": [
    "import numpy as np\n",
    "import pandas as pd\n",
    "import matplotlib.pyplot as plt\n",
    "import json\n",
    "import pandas_datareader.data as pdr\n",
    "import datetime "
   ]
  },
  {
   "cell_type": "code",
   "execution_count": 2,
   "metadata": {},
   "outputs": [],
   "source": [
    "sector = 'Automotive'\n",
    "with open(f'./pre_processing_mp_mf/{sector}.json', 'r') as f:\n",
    "    json_object = json.load(f)\n",
    "trade_summary = [[[pd.DataFrame(json_object[i][j][k]) for k in range(len(json_object[0][0]))] for j in range(len(json_object[0]))] for i in range(len(json_object))]\n",
    "tickers = np.zeros(len(trade_summary[0][0])).tolist()"
   ]
  },
  {
   "cell_type": "code",
   "execution_count": 3,
   "metadata": {},
   "outputs": [],
   "source": [
    "range_mp,range_mf = len(trade_summary[0]),len(trade_summary)\n",
    "profit = np.zeros((range_mf,range_mp))\n",
    "success = np.zeros((range_mf,range_mp))\n",
    "tot_trades = np.zeros((range_mf,range_mp))\n",
    "for i in range(profit.shape[0]):\n",
    "    for j in range(profit.shape[1]):\n",
    "        tot_trades_temp = 0 # for a given (mp,mf) pair\n",
    "        for k in range(len(tickers)):\n",
    "            curr_profit_summary = (trade_summary[i][j][k]['SellPrice']-trade_summary[i][j][k]['BuyPrice'])*trade_summary[i][j][k]['Lots']\n",
    "            \n",
    "            if len(curr_profit_summary)>=1 : \n",
    "                if curr_profit_summary[-1:].isnull().values.any(): \n",
    "                    curr_profit_summary = curr_profit_summary[:-1]\n",
    "                    trade_summary[i][j][k] = trade_summary[i][j][k][:-1]\n",
    "                    # print('NaN encountered')\n",
    "                success[i,j] += len(curr_profit_summary[curr_profit_summary>trade_summary[i][j][k]['BuyPrice']*trade_summary[i][j][k]['Lots']/100]) #*100/len(curr_profit_summary)            \n",
    "                tot_trades_temp += len(curr_profit_summary)\n",
    "            profit[i,j] += np.sum(curr_profit_summary)\n",
    "        tot_trades[i,j] = tot_trades_temp"
   ]
  },
  {
   "cell_type": "code",
   "execution_count": 4,
   "metadata": {},
   "outputs": [
    {
     "name": "stderr",
     "output_type": "stream",
     "text": [
      "d:\\Programming\\Python\\Time_data_prediction\\fin-env\\lib\\site-packages\\ipykernel_launcher.py:1: RuntimeWarning: invalid value encountered in true_divide\n",
      "  \"\"\"Entry point for launching an IPython kernel.\n"
     ]
    },
    {
     "data": {
      "image/png": "[encoded data removed]",
      "text/plain": [
       "<Figure size 432x288 with 2 Axes>"
      ]
     },
     "metadata": {
      "needs_background": "light"
     },
     "output_type": "display_data"
    }
   ],
   "source": [
    "success_percent = (success/tot_trades)*100\n",
    "success_percent_list = success_percent.tolist()\n",
    "# x = [i for i in range(1,range_mp+1)]\n",
    "# y = [i for i in range(1,range_mf+1)]\n",
    "\n",
    "fig, ax = plt.subplots(1,1)\n",
    "img = ax.imshow(success_percent_list,interpolation='none',origin='lower',cmap=plt.cm.hsv) # jet or viridis \n",
    "ax.set(xlabel='mp',ylabel='mf',title='Success Percentage')\n",
    "fig.colorbar(img);"
   ]
  },
  {
   "cell_type": "code",
   "execution_count": 5,
   "metadata": {},
   "outputs": [
    {
     "data": {
      "image/png": "[encoded data removed]",
      "text/plain": [
       "<Figure size 432x288 with 2 Axes>"
      ]
     },
     "metadata": {
      "needs_background": "light"
     },
     "output_type": "display_data"
    }
   ],
   "source": [
    "profit[profit==0] = np.nan\n",
    "profit_list = (profit/1e4).tolist()\n",
    "fig, ax = plt.subplots(1,1)\n",
    "img = ax.imshow(profit_list,interpolation='none',origin='lower',cmap=plt.cm.hsv)\n",
    "ax.set(xlabel='mp',ylabel='mf',title='Profit Percentage')\n",
    "fig.colorbar(img);"
   ]
  },
  {
   "cell_type": "markdown",
   "metadata": {},
   "source": [
    "### Hotspot\n",
    "1. Prediction accuracy > 53% at that location.\n",
    "2. Avg predition score of all 9 surrounding cells > 53%.  \n",
    "\n",
    "We define a trading hotspot as a particular pairing of $(m_p,m_f)$ integers such that  \n",
    "1. $S(m_p,m_f)>0.53$, percentage of successful trades for a particular pair should be greater than 0.53.\n",
    "2. $1/9\\sum_{j=-1}^1\\sum_{k=-1}^1 S_{m_p+k,m_f+j}>0.53$, basically average of the 9 surrounding cells should be greater than 0.53."
   ]
  },
  {
   "cell_type": "code",
   "execution_count": 6,
   "metadata": {},
   "outputs": [],
   "source": [
    "## Identify the trading hotspot\n",
    "potential_hotspots = []\n",
    "for i in range(1,success_percent.shape[0]-1):\n",
    "    for j in range(1,success_percent.shape[1]-1):\n",
    "        if success_percent[i,j]>=53 and np.mean(success_percent[i-1:i+2,j-1:j+2])>=53:\n",
    "            potential_hotspots.append([i,j])"
   ]
  },
  {
   "cell_type": "markdown",
   "metadata": {},
   "source": [
    "After trading hotspot is identified (if it is present), we can test the algorithm on the remaining data using the values of the trading hotspot.  \n",
    "\n",
    "Else this particular sector is not feasible to trade in. Need to look for another sector for this strategy to work."
   ]
  },
  {
   "cell_type": "code",
   "execution_count": 7,
   "metadata": {},
   "outputs": [
    {
     "data": {
      "text/plain": [
       "[[4, 12],\n",
       " [4, 13],\n",
       " [5, 11],\n",
       " [5, 12],\n",
       " [5, 13],\n",
       " [6, 12],\n",
       " [6, 13],\n",
       " [7, 11],\n",
       " [7, 12],\n",
       " [7, 13],\n",
       " [7, 14],\n",
       " [8, 11],\n",
       " [8, 12],\n",
       " [8, 13]]"
      ]
     },
     "execution_count": 7,
     "metadata": {},
     "output_type": "execute_result"
    }
   ],
   "source": [
    "potential_hotspots"
   ]
  },
  {
   "cell_type": "code",
   "execution_count": 8,
   "metadata": {},
   "outputs": [],
   "source": [
    "max = 0\n",
    "hotspot = []\n",
    "for i in range(len(potential_hotspots)):\n",
    "    if success_percent[potential_hotspots[i][0],potential_hotspots[i][1]]>=max: \n",
    "        max = success_percent[potential_hotspots[i][0],potential_hotspots[i][1]]\n",
    "        hotspot = potential_hotspots[i]\n",
    "hotspot = [hotspot[0]+1,hotspot[1]+1] # Chaning from indices to actual values"
   ]
  },
  {
   "cell_type": "code",
   "execution_count": 9,
   "metadata": {},
   "outputs": [
    {
     "data": {
      "text/plain": [
       "[5, 14]"
      ]
     },
     "execution_count": 9,
     "metadata": {},
     "output_type": "execute_result"
    }
   ],
   "source": [
    "hotspot"
   ]
  },
  {
   "cell_type": "code",
   "execution_count": 10,
   "metadata": {},
   "outputs": [
    {
     "data": {
      "text/plain": [
       "array([[80.        , 35.8490566 , 28.07017544],\n",
       "       [69.23076923, 47.27272727, 52.45901639],\n",
       "       [76.92307692, 52.63157895, 49.20634921]])"
      ]
     },
     "execution_count": 10,
     "metadata": {},
     "output_type": "execute_result"
    }
   ],
   "source": [
    "success_percent[hotspot[0]-1:hotspot[0]+2,hotspot[1]-1:hotspot[1]+2]"
   ]
  },
  {
   "cell_type": "markdown",
   "metadata": {},
   "source": [
    "# Test the Hotspot"
   ]
  },
  {
   "cell_type": "code",
   "execution_count": 11,
   "metadata": {},
   "outputs": [],
   "source": [
    "# Input\n",
    "start_date = datetime.datetime(2016,1,1)\n",
    "end_date = datetime.datetime.today()\n",
    "\n",
    "nstocks = 10\n",
    "sector_data = pd.read_csv(f'./sector_data/{sector}.csv',index_col=0)\n",
    "tickers = list(sector_data.nlargest(len(tickers),'MktCap')['Ticker'])\n",
    "\n",
    "data = pdr.get_data_yahoo(tickers,start_date,end_date)\n",
    "data = data.dropna()"
   ]
  },
  {
   "cell_type": "code",
   "execution_count": 12,
   "metadata": {},
   "outputs": [
    {
     "data": {
      "text/plain": [
       "(10, 551)"
      ]
     },
     "execution_count": 12,
     "metadata": {},
     "output_type": "execute_result"
    }
   ],
   "source": [
    "temp_list = []\n",
    "for i in tickers:\n",
    "    temp_list.append(np.array([data['Adj Close'][i]]).T)\n",
    "X = np.block([temp_list]).T\n",
    "## Assign train data\n",
    "X_train = X[:,:int(X.shape[1]/3)]\n",
    "X_test = X[:,int(X.shape[1]/3):]\n",
    "X_train.shape"
   ]
  },
  {
   "cell_type": "code",
   "execution_count": 13,
   "metadata": {},
   "outputs": [],
   "source": [
    "def DMD(X,r,dt,mf):\n",
    "    '''\n",
    "    Inputs:\n",
    "        X = numpy.ndarray: Historical time series data with time along the columns and current time being the last column\n",
    "        r = scalar: Number of main modes to consider\n",
    "        dt = scaler: time step between each column\n",
    "        mf = scalar: Number of future time steps you want to predict\n",
    "    Outputs:\n",
    "        X_DMD = mf+1 columns of predicted time series data with first column being the current time step\n",
    "    '''\n",
    "    X1,X2 = X[:,:-1],X[:,1:] # Last column of X is current price of the day close to closing\n",
    "    U,s,Vh = np.linalg.svd(X1,full_matrices=False)\n",
    "    r = min(r,np.shape(U)[1])\n",
    "    Ur,Sr,Vr = U[:,:r],np.diag(s[:r]),Vh[:r,:].T\n",
    "    A_T = Ur.T@X2@Vr@np.linalg.inv(Sr)\n",
    "    d,Wr = np.linalg.eig(A_T)\n",
    "    Phi = X2@Vr@np.linalg.inv(Sr)@Wr\n",
    "    Lambda = np.diag(d)\n",
    "    Omega = np.log(Lambda)/dt\n",
    "    b = np.linalg.pinv(Phi)@X[:,-1:]\n",
    "    \n",
    "    t = np.arange(0,(mf+1)*dt,dt)\n",
    "    t = t.reshape((t.shape[0],1,1))\n",
    "    time_dynamics = np.exp(t*Omega)@b\n",
    "    X_DMD = (Phi@time_dynamics).T.reshape((Phi.shape[0],t.shape[0]))\n",
    "    return X_DMD\n",
    "    "
   ]
  },
  {
   "cell_type": "code",
   "execution_count": 14,
   "metadata": {},
   "outputs": [],
   "source": [
    "def backtest(mf,mp,X_inp):\n",
    "    ## Initialize variables\n",
    "    #### When did we buy and at what price, when did we sell and at what price\n",
    "    bank_balance = 1000000\n",
    "    #### Queues to store at what index we bought that stock\n",
    "    q = [np.array([]) for i in range(len(tickers))]\n",
    "    #### trade summary for every stock \n",
    "    trade_summary = [pd.DataFrame(columns=['BuyDate_index','BuyPrice','SellDate_index','SellPrice','Lots']) for i in range(len(tickers))] # For 1 stock, make similar structure for other stocks as well\n",
    "    #### Bank balance is distributed equally among stocks\n",
    "    balance_per_stock = np.ones((len(tickers),1))*bank_balance/len(tickers)\n",
    "\n",
    "    ## Begin for loop from max(mp) to train-max(mf)\n",
    "    for i in range(24,X_inp.shape[1]-10):\n",
    "        #### If bought at i-mf (check queue and remove if present) then sell\n",
    "        for j in range(len(tickers)):\n",
    "            if q[j].shape[0]!=0: # if queue is not empty\n",
    "                if q[j][-1]==i-mf: # if last element is mf days before current then sell\n",
    "                    ###### Sell means to pop queue, append P&L along with the iteration number and increase the bank balance again taking into account the P&L and transaction/brokerage cost (8 per trade)\n",
    "                    q[j] = q[j][:-1]\n",
    "                    ######## Update trade summary\n",
    "                    trade_summary[j].iloc[len(trade_summary[j].index)-1][2:4] = [i,X_inp[j,i]]\n",
    "                    ######## Update balance per stock\n",
    "                    balance_per_stock[j] += X_inp[j,i]*trade_summary[j].iloc[len(trade_summary[j].index)-1][-1] # Include transaction costs\n",
    "                \n",
    "        #### If balance is there and DMD(...)[:,-1:] i.e. predicted price is greater than 1% then buy else do nothing\n",
    "        dmd = DMD(X_inp[:,i-mp:i+1],5,1,mf)[:,-1:]\n",
    "        for j in range(len(tickers)):\n",
    "            if balance_per_stock[j]>=X_inp[j,i] and (dmd[j,0]-X_inp[j,i])/X_inp[j,i]>0.01:\n",
    "                ## Buy \n",
    "                lots = int(balance_per_stock[j]/X_inp[j,i])\n",
    "                #### Buy means append queue of possesions\n",
    "                q[j] = np.append(q[j],i)\n",
    "                #### Update trade summary\n",
    "                trade_summary[j].loc[len(trade_summary[j].index)] = [i,X_inp[j,i],np.nan,np.nan,lots]\n",
    "                #### Update (subtract) balance per stock\n",
    "                balance_per_stock[j] -= lots*X_inp[j,i]\n",
    "\n",
    "    return trade_summary\n",
    "        ###### Buy means Bank balance is reduced queue is appended with the iteration number"
   ]
  },
  {
   "cell_type": "code",
   "execution_count": 15,
   "metadata": {},
   "outputs": [
    {
     "name": "stderr",
     "output_type": "stream",
     "text": [
      "d:\\Programming\\Python\\Time_data_prediction\\fin-env\\lib\\site-packages\\ipykernel_launcher.py:19: RuntimeWarning: divide by zero encountered in log\n",
      "d:\\Programming\\Python\\Time_data_prediction\\fin-env\\lib\\site-packages\\ipykernel_launcher.py:19: RuntimeWarning: invalid value encountered in true_divide\n",
      "d:\\Programming\\Python\\Time_data_prediction\\fin-env\\lib\\site-packages\\ipykernel_launcher.py:24: RuntimeWarning: invalid value encountered in multiply\n",
      "d:\\Programming\\Python\\Time_data_prediction\\fin-env\\lib\\site-packages\\ipykernel_launcher.py:19: RuntimeWarning: invalid value encountered in log\n"
     ]
    }
   ],
   "source": [
    "test_trade_summary = backtest(hotspot[0],hotspot[1],X_test)"
   ]
  },
  {
   "cell_type": "code",
   "execution_count": 16,
   "metadata": {},
   "outputs": [
    {
     "name": "stdout",
     "output_type": "stream",
     "text": [
      "Profit 149294.7996673584\n",
      "Success Trades 25 ; Total trades 41\n",
      "Success Percentage 60.97560975609756\n"
     ]
    }
   ],
   "source": [
    "profit_test = 0\n",
    "success_test = 0\n",
    "tot_trades_test = 0 # for a given (mp,mf) pair\n",
    "for k in range(len(tickers)):\n",
    "    curr_profit_summary = (test_trade_summary[k]['SellPrice']-test_trade_summary[k]['BuyPrice'])*test_trade_summary[k]['Lots']\n",
    "    \n",
    "    if len(curr_profit_summary)>=1 : \n",
    "        if curr_profit_summary[-1:].isnull().values.any(): \n",
    "            curr_profit_summary = curr_profit_summary[:-1]\n",
    "            test_trade_summary[k] = test_trade_summary[k][:-1]\n",
    "            # print('NaN encountered')\n",
    "        success_test += len(curr_profit_summary[curr_profit_summary>test_trade_summary[k]['BuyPrice']*test_trade_summary[k]['Lots']/100]) #*100/len(curr_profit_summary)            \n",
    "        tot_trades_test += len(curr_profit_summary)\n",
    "    profit_test += np.sum(curr_profit_summary)\n",
    "print('Profit', profit_test)\n",
    "print('Success Trades',success_test,'; Total trades',tot_trades_test)\n",
    "print('Success Percentage',success_test/tot_trades_test*100)"
   ]
  }
 ],
 "metadata": {
  "kernelspec": {
   "display_name": "Python 3.7.9 ('fin-env': venv)",
   "language": "python",
   "name": "python3"
  },
  "language_info": {
   "codemirror_mode": {
    "name": "ipython",
    "version": 3
   },
   "file_extension": ".py",
   "mimetype": "text/x-python",
   "name": "python",
   "nbconvert_exporter": "python",
   "pygments_lexer": "ipython3",
   "version": "3.7.9"
  },
  "orig_nbformat": 4,
  "vscode": {
   "interpreter": {
    "hash": "ec1b335d40804915a6ceb3a70f4ba62bd3530985ecdb7578dc6cbc1e664ec108"
   }
  }
 },
 "nbformat": 4,
 "nbformat_minor": 2
}
